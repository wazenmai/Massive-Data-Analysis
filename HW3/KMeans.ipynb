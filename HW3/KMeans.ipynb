{
 "cells": [
  {
   "cell_type": "markdown",
   "id": "7009f206",
   "metadata": {},
   "source": [
    "# K-Means Algorithm\n",
    "\n",
    "(id, (v1, v2..., v58))"
   ]
  },
  {
   "cell_type": "code",
   "execution_count": 1,
   "id": "014d0049",
   "metadata": {},
   "outputs": [],
   "source": [
    "import math\n",
    "from pyspark import SparkContext, SparkConf"
   ]
  },
  {
   "cell_type": "code",
   "execution_count": 2,
   "id": "d309b60e",
   "metadata": {},
   "outputs": [],
   "source": [
    "MAX_ITER = 20\n",
    "global_path = \"/Users/wazenmaichen/wazenmai/nthu/CS/massive_data_analysis/HW3/hw3-kmeans-testcase/\""
   ]
  },
  {
   "cell_type": "code",
   "execution_count": 8,
   "id": "85c0f982",
   "metadata": {},
   "outputs": [],
   "source": [
    "conf = SparkConf().setMaster(\"local\").setAppName(\"kmeans\")\n",
    "sc = SparkContext(conf=conf)"
   ]
  },
  {
   "cell_type": "code",
   "execution_count": 43,
   "id": "fda87f77",
   "metadata": {},
   "outputs": [],
   "source": [
    "NodeNum = 0\n",
    "Dimension = 58\n",
    "\n",
    "# (pid, [v0, v1..., v58])\n",
    "def preprocess_data(data):\n",
    "    global NodeNum\n",
    "    data_list = []\n",
    "    for d in data.splitlines():\n",
    "        ele = d.split(' ')\n",
    "        temp_list = []\n",
    "        for e in ele:\n",
    "            temp_list.append(float(e))\n",
    "        data_list.append((NodeNum, temp_list))\n",
    "        NodeNum += 1\n",
    "    return data_list\n",
    "\n",
    "# (dim, (pid, v_dim))\n",
    "def align_dimension(data):\n",
    "    global NodeNum\n",
    "    data_list = []\n",
    "    for line in data.splitlines():\n",
    "        ele = line.split(' ')\n",
    "        for d, v in enumerate(ele):\n",
    "            data_list.append((d, (NodeNum, float(v))))\n",
    "        NodeNum += 1\n",
    "    return data_list\n",
    "\n",
    "def align_centroid(data):\n",
    "    # (cid, [v0, v1, ..., v58])\n",
    "    data_list = []\n",
    "    for d, ele in enumerate(data[1]):\n",
    "        data_list.append((d, (data[0], ele)))\n",
    "    return data_list\n",
    "\n",
    "\n",
    "\"\"\" Compute Distance \"\"\"\n",
    "def compute_euclidean(x):\n",
    "    # (dim, ((pid, pvalue), (cid, cvalue)) -> ((pid, cid), distance)\n",
    "    return((x[1][0][0], x[1][1][0]), (x[1][0][1] - x[1][1][1]) ** 2)\n",
    "\n",
    "def compute_manhattan(x):\n",
    "    # (dim, ((pid, pvalue), (cid, cvalue)) -> ((pid, cid), distance)\n",
    "    return ((x[1][0][0], x[1][1][0]), abs(x[1][0][1] - x[1][1][1]))\n",
    "\n",
    "\n",
    "\"\"\" Find the centroid with smallest distance \"\"\"\n",
    "def find_closest(x, y):\n",
    "    # (cid, distance)\n",
    "    if x[1] <= y[1]:\n",
    "        return x\n",
    "    else:\n",
    "        return y\n",
    "\n",
    "def compute_centroid(x):\n",
    "    # (cid, [v0, v1, ..., v58, ..., v0, v1..., v58, ...])\n",
    "    cvalue = [0] * Dimension\n",
    "    citizens_num = len(x[1]) // Dimension\n",
    "    for n in range(citizens_num):\n",
    "        for d in range(Dimension):\n",
    "            cvalue[d] += x[1][d + n * Dimension]\n",
    "    for d in range(Dimension):\n",
    "        cvalue[d] /= citizens_num\n",
    "    return (x[0], cvalue)    "
   ]
  },
  {
   "cell_type": "code",
   "execution_count": 49,
   "id": "944c0040",
   "metadata": {
    "scrolled": true
   },
   "outputs": [],
   "source": [
    "def k_means(centroid, distFunc, cost_list):\n",
    "    \"\"\"\n",
    "    centroid: initial centroid\n",
    "    \n",
    "    distFunc: Euclidean or Manhattan\n",
    "    \n",
    "    cost_list: record cost list\n",
    "    \"\"\"\n",
    "    for iteration in range(MAX_ITER):\n",
    "        print(\"iteration: \", iteration)\n",
    "\n",
    "        # find centroid and closest_distance for each point\n",
    "        pc_distance = points.join(centroid).map(distFunc).reduceByKey(lambda x, y: x + y) # ((pid, cid), distance)\n",
    "        pc_distance = pc_distance.map(lambda x: (x[0][0], (x[0][1], x[1]))) # (pid, (cid, distance))\n",
    "        \n",
    "#         pc_distance = pc_distance.map(lambda x: (x[0][0], (x[0][1], math.sqrt(x[1])))) # (pid, (cid, distance))\n",
    "        pc_distance = pc_distance.reduceByKey(find_closest) # (pid, (cid, closest_distance))\n",
    "\n",
    "        # cost function\n",
    "        cost = pc_distance.map(lambda x: x[1][1]).reduce(lambda x, y: x + y)\n",
    "        cost_list.append(cost)\n",
    "        print(\"cost: \", cost)\n",
    "        \n",
    "        # match point and centroid\n",
    "        pc = pc_distance.map(lambda x: (x[0], x[1][0])) # (pid, cid)\n",
    "\n",
    "        # recompute the centroid by points\n",
    "        temp_centroid = pc.join(points_value) # (pid, (cid, [v0, v1..., v58]))\n",
    "        temp_centroid = temp_centroid.map(lambda x: (x[1][0], x[1][1])) # (cid, [v0, v1..., v58])\n",
    "        temp_centroid = temp_centroid.reduceByKey(lambda x, y: x + y).map(compute_centroid) # (cid, [v0, v1..., v58])\n",
    "        centroid = temp_centroid.flatMap(align_centroid)\n",
    "    return temp_centroid.sortByKey()"
   ]
  },
  {
   "cell_type": "code",
   "execution_count": 50,
   "id": "ec48c3d1",
   "metadata": {},
   "outputs": [],
   "source": [
    "points = sc.textFile(global_path + \"data.txt\").flatMap(align_dimension)       # (d, (id, v_d))\n",
    "points_value = sc.textFile(global_path + \"data.txt\").flatMap(preprocess_data) # (pid, [v0, v1, ..., v58])\n",
    "c1 = sc.textFile(global_path + \"c1.txt\").flatMap(align_dimension)             # (d, (id, v_d))\n",
    "c2 = sc.textFile(global_path + \"c2.txt\").flatMap(align_dimension)             # (d, (id, v_d))\n",
    "\n",
    "cost_c1_ec = []\n",
    "cost_c2_ec = []\n",
    "cost_c1_mh = []\n",
    "cost_c2_mh = []"
   ]
  },
  {
   "cell_type": "code",
   "execution_count": 62,
   "id": "0db67f76",
   "metadata": {
    "collapsed": true
   },
   "outputs": [
    {
     "name": "stdout",
     "output_type": "stream",
     "text": [
      "Manhattan - C1\n",
      "iteration:  0\n"
     ]
    },
    {
     "name": "stderr",
     "output_type": "stream",
     "text": [
      "                                                                                \r"
     ]
    },
    {
     "name": "stdout",
     "output_type": "stream",
     "text": [
      "cost:  550117.1420000002\n",
      "iteration:  1\n"
     ]
    },
    {
     "name": "stderr",
     "output_type": "stream",
     "text": [
      "                                                                                \r"
     ]
    },
    {
     "name": "stdout",
     "output_type": "stream",
     "text": [
      "cost:  465617.3485236672\n",
      "iteration:  2\n"
     ]
    },
    {
     "name": "stderr",
     "output_type": "stream",
     "text": [
      "                                                                                \r"
     ]
    },
    {
     "name": "stdout",
     "output_type": "stream",
     "text": [
      "cost:  470902.29650127527\n",
      "iteration:  3\n"
     ]
    },
    {
     "name": "stderr",
     "output_type": "stream",
     "text": [
      "                                                                                \r"
     ]
    },
    {
     "name": "stdout",
     "output_type": "stream",
     "text": [
      "cost:  483932.3931689977\n",
      "iteration:  4\n"
     ]
    },
    {
     "name": "stderr",
     "output_type": "stream",
     "text": [
      "                                                                                \r"
     ]
    },
    {
     "name": "stdout",
     "output_type": "stream",
     "text": [
      "cost:  489207.57581724896\n",
      "iteration:  5\n"
     ]
    },
    {
     "name": "stderr",
     "output_type": "stream",
     "text": [
      "                                                                                \r"
     ]
    },
    {
     "name": "stdout",
     "output_type": "stream",
     "text": [
      "cost:  487597.67386148946\n",
      "iteration:  6\n"
     ]
    },
    {
     "name": "stderr",
     "output_type": "stream",
     "text": [
      "                                                                                \r"
     ]
    },
    {
     "name": "stdout",
     "output_type": "stream",
     "text": [
      "cost:  483507.3944688315\n",
      "iteration:  7\n"
     ]
    },
    {
     "name": "stderr",
     "output_type": "stream",
     "text": [
      "                                                                                \r"
     ]
    },
    {
     "name": "stdout",
     "output_type": "stream",
     "text": [
      "cost:  475258.8666639479\n",
      "iteration:  8\n"
     ]
    },
    {
     "name": "stderr",
     "output_type": "stream",
     "text": [
      "                                                                                \r"
     ]
    },
    {
     "name": "stdout",
     "output_type": "stream",
     "text": [
      "cost:  474863.62392036873\n",
      "iteration:  9\n"
     ]
    },
    {
     "name": "stderr",
     "output_type": "stream",
     "text": [
      "                                                                                \r"
     ]
    },
    {
     "name": "stdout",
     "output_type": "stream",
     "text": [
      "cost:  457210.606910489\n",
      "iteration:  10\n"
     ]
    },
    {
     "name": "stderr",
     "output_type": "stream",
     "text": [
      "                                                                                \r"
     ]
    },
    {
     "name": "stdout",
     "output_type": "stream",
     "text": [
      "cost:  447522.40673446015\n",
      "iteration:  11\n"
     ]
    },
    {
     "name": "stderr",
     "output_type": "stream",
     "text": [
      "                                                                                \r"
     ]
    },
    {
     "name": "stdout",
     "output_type": "stream",
     "text": [
      "cost:  450872.48677093367\n",
      "iteration:  12\n"
     ]
    },
    {
     "name": "stderr",
     "output_type": "stream",
     "text": [
      "                                                                                \r"
     ]
    },
    {
     "name": "stdout",
     "output_type": "stream",
     "text": [
      "cost:  451157.7926116736\n",
      "iteration:  13\n"
     ]
    },
    {
     "name": "stderr",
     "output_type": "stream",
     "text": [
      "                                                                                \r"
     ]
    },
    {
     "name": "stdout",
     "output_type": "stream",
     "text": [
      "cost:  451922.28116581036\n",
      "iteration:  14\n"
     ]
    },
    {
     "name": "stderr",
     "output_type": "stream",
     "text": [
      "                                                                                \r"
     ]
    },
    {
     "name": "stdout",
     "output_type": "stream",
     "text": [
      "cost:  451572.9468517024\n",
      "iteration:  15\n"
     ]
    },
    {
     "name": "stderr",
     "output_type": "stream",
     "text": [
      "                                                                                \r"
     ]
    },
    {
     "name": "stdout",
     "output_type": "stream",
     "text": [
      "cost:  452744.14279976796\n",
      "iteration:  16\n"
     ]
    },
    {
     "name": "stderr",
     "output_type": "stream",
     "text": [
      "                                                                                \r"
     ]
    },
    {
     "name": "stdout",
     "output_type": "stream",
     "text": [
      "cost:  453082.73028718366\n",
      "iteration:  17\n"
     ]
    },
    {
     "name": "stderr",
     "output_type": "stream",
     "text": [
      "                                                                                \r"
     ]
    },
    {
     "name": "stdout",
     "output_type": "stream",
     "text": [
      "cost:  450583.67086029856\n",
      "iteration:  18\n"
     ]
    },
    {
     "name": "stderr",
     "output_type": "stream",
     "text": [
      "                                                                                \r"
     ]
    },
    {
     "name": "stdout",
     "output_type": "stream",
     "text": [
      "cost:  450368.74931674165\n",
      "iteration:  19\n"
     ]
    },
    {
     "name": "stderr",
     "output_type": "stream",
     "text": [
      "                                                                                \r"
     ]
    },
    {
     "name": "stdout",
     "output_type": "stream",
     "text": [
      "cost:  449011.363725519\n"
     ]
    },
    {
     "name": "stderr",
     "output_type": "stream",
     "text": [
      "                                                                                \r"
     ]
    },
    {
     "name": "stdout",
     "output_type": "stream",
     "text": [
      "Manhattan - C2\n",
      "iteration:  0\n"
     ]
    },
    {
     "name": "stderr",
     "output_type": "stream",
     "text": [
      "                                                                                \r"
     ]
    },
    {
     "name": "stdout",
     "output_type": "stream",
     "text": [
      "cost:  1433739.3099999973\n",
      "iteration:  1\n"
     ]
    },
    {
     "name": "stderr",
     "output_type": "stream",
     "text": [
      "                                                                                \r"
     ]
    },
    {
     "name": "stdout",
     "output_type": "stream",
     "text": [
      "cost:  1084488.77696488\n",
      "iteration:  2\n"
     ]
    },
    {
     "name": "stderr",
     "output_type": "stream",
     "text": [
      "                                                                                \r"
     ]
    },
    {
     "name": "stdout",
     "output_type": "stream",
     "text": [
      "cost:  973431.714662042\n",
      "iteration:  3\n"
     ]
    },
    {
     "name": "stderr",
     "output_type": "stream",
     "text": [
      "                                                                                \r"
     ]
    },
    {
     "name": "stdout",
     "output_type": "stream",
     "text": [
      "cost:  895934.5925630708\n",
      "iteration:  4\n"
     ]
    },
    {
     "name": "stderr",
     "output_type": "stream",
     "text": [
      "                                                                                \r"
     ]
    },
    {
     "name": "stdout",
     "output_type": "stream",
     "text": [
      "cost:  865128.3352940821\n",
      "iteration:  5\n"
     ]
    },
    {
     "name": "stderr",
     "output_type": "stream",
     "text": [
      "                                                                                \r"
     ]
    },
    {
     "name": "stdout",
     "output_type": "stream",
     "text": [
      "cost:  845846.6470313488\n",
      "iteration:  6\n"
     ]
    },
    {
     "name": "stderr",
     "output_type": "stream",
     "text": [
      "                                                                                \r"
     ]
    },
    {
     "name": "stdout",
     "output_type": "stream",
     "text": [
      "cost:  827219.5827561263\n",
      "iteration:  7\n"
     ]
    },
    {
     "name": "stderr",
     "output_type": "stream",
     "text": [
      "                                                                                \r"
     ]
    },
    {
     "name": "stdout",
     "output_type": "stream",
     "text": [
      "cost:  803590.3456011106\n",
      "iteration:  8\n"
     ]
    },
    {
     "name": "stderr",
     "output_type": "stream",
     "text": [
      "                                                                                \r"
     ]
    },
    {
     "name": "stdout",
     "output_type": "stream",
     "text": [
      "cost:  756039.5172761207\n",
      "iteration:  9\n"
     ]
    },
    {
     "name": "stderr",
     "output_type": "stream",
     "text": [
      "                                                                                \r"
     ]
    },
    {
     "name": "stdout",
     "output_type": "stream",
     "text": [
      "cost:  717332.9025432303\n",
      "iteration:  10\n"
     ]
    },
    {
     "name": "stderr",
     "output_type": "stream",
     "text": [
      "                                                                                \r"
     ]
    },
    {
     "name": "stdout",
     "output_type": "stream",
     "text": [
      "cost:  694587.9252526881\n",
      "iteration:  11\n"
     ]
    },
    {
     "name": "stderr",
     "output_type": "stream",
     "text": [
      "                                                                                \r"
     ]
    },
    {
     "name": "stdout",
     "output_type": "stream",
     "text": [
      "cost:  684444.5019967912\n",
      "iteration:  12\n"
     ]
    },
    {
     "name": "stderr",
     "output_type": "stream",
     "text": [
      "                                                                                \r"
     ]
    },
    {
     "name": "stdout",
     "output_type": "stream",
     "text": [
      "cost:  674574.7475478556\n",
      "iteration:  13\n"
     ]
    },
    {
     "name": "stderr",
     "output_type": "stream",
     "text": [
      "                                                                                \r"
     ]
    },
    {
     "name": "stdout",
     "output_type": "stream",
     "text": [
      "cost:  667409.4699160268\n",
      "iteration:  14\n"
     ]
    },
    {
     "name": "stderr",
     "output_type": "stream",
     "text": [
      "                                                                                \r"
     ]
    },
    {
     "name": "stdout",
     "output_type": "stream",
     "text": [
      "cost:  663556.6278215034\n",
      "iteration:  15\n"
     ]
    },
    {
     "name": "stderr",
     "output_type": "stream",
     "text": [
      "                                                                                \r"
     ]
    },
    {
     "name": "stdout",
     "output_type": "stream",
     "text": [
      "cost:  660162.7772287573\n",
      "iteration:  16\n"
     ]
    },
    {
     "name": "stderr",
     "output_type": "stream",
     "text": [
      "                                                                                \r"
     ]
    },
    {
     "name": "stdout",
     "output_type": "stream",
     "text": [
      "cost:  656041.3222947128\n",
      "iteration:  17\n"
     ]
    },
    {
     "name": "stderr",
     "output_type": "stream",
     "text": [
      "                                                                                \r"
     ]
    },
    {
     "name": "stdout",
     "output_type": "stream",
     "text": [
      "cost:  653036.7540731604\n",
      "iteration:  18\n"
     ]
    },
    {
     "name": "stderr",
     "output_type": "stream",
     "text": [
      "                                                                                \r"
     ]
    },
    {
     "name": "stdout",
     "output_type": "stream",
     "text": [
      "cost:  651112.4262522731\n",
      "iteration:  19\n"
     ]
    },
    {
     "name": "stderr",
     "output_type": "stream",
     "text": [
      "                                                                                \r"
     ]
    },
    {
     "name": "stdout",
     "output_type": "stream",
     "text": [
      "cost:  649689.0131843534\n"
     ]
    },
    {
     "name": "stderr",
     "output_type": "stream",
     "text": [
      "                                                                                \r"
     ]
    }
   ],
   "source": [
    "print(\"Euclidean - C1\")\n",
    "final_c1_ec = k_means(c1, compute_euclidean, cost_c1_ec)\n",
    "print(\"Euclidean - C2\")\n",
    "final_c2_ec = k_means(c2, compute_euclidean, cost_c2_ec)\n",
    "print(\"Manhattan - C1\")\n",
    "final_c1_mh = k_means(c1, compute_manhattan, cost_c1_mh)\n",
    "print(\"Manhattan - C2\")\n",
    "final_c2_mh = k_means(c2, compute_manhattan, cost_c2_mh)"
   ]
  },
  {
   "cell_type": "code",
   "execution_count": 82,
   "id": "d9afaee8",
   "metadata": {},
   "outputs": [],
   "source": [
    "sc.stop()"
   ]
  },
  {
   "cell_type": "markdown",
   "id": "10b481af",
   "metadata": {},
   "source": [
    "# Report\n",
    "## Cost Function"
   ]
  },
  {
   "cell_type": "markdown",
   "id": "d438eb05",
   "metadata": {},
   "source": [
    "### Percentage improvement values"
   ]
  },
  {
   "cell_type": "code",
   "execution_count": 64,
   "id": "fd913158",
   "metadata": {},
   "outputs": [
    {
     "name": "stdout",
     "output_type": "stream",
     "text": [
      "a. c1:  26.885383292516984\n",
      "a. c2:  79.43775029159896\n"
     ]
    }
   ],
   "source": [
    "percentage_improvement_value_c1_ec = (cost_c1_ec[0] - cost_c1_ec[-1]) / cost_c1_ec[0] * 100\n",
    "percentage_improvement_value_c2_ec = (cost_c2_ec[0] - cost_c2_ec[-1]) / cost_c2_ec[0] * 100\n",
    "print(\"a. c1: \", percentage_improvement_value_c1_ec)\n",
    "print(\"a. c2: \", percentage_improvement_value_c2_ec)"
   ]
  },
  {
   "cell_type": "code",
   "execution_count": 65,
   "id": "2669555c",
   "metadata": {},
   "outputs": [
    {
     "name": "stdout",
     "output_type": "stream",
     "text": [
      "b. c1:  18.378954327236944\n",
      "b. c2:  54.68569434813399\n"
     ]
    }
   ],
   "source": [
    "percentage_improvement_value_c1_mh = (cost_c1_mh[0] - cost_c1_mh[-1]) / cost_c1_mh[0] * 100\n",
    "percentage_improvement_value_c2_mh = (cost_c2_mh[0] - cost_c2_mh[-1]) / cost_c2_mh[0] * 100\n",
    "print(\"b. c1: \", percentage_improvement_value_c1_mh)\n",
    "print(\"b. c2: \", percentage_improvement_value_c2_mh)"
   ]
  },
  {
   "cell_type": "markdown",
   "id": "7d6e22d2",
   "metadata": {},
   "source": [
    "### Cost vs. Iteration Figure"
   ]
  },
  {
   "cell_type": "code",
   "execution_count": 16,
   "id": "4c2c52b2",
   "metadata": {},
   "outputs": [],
   "source": [
    "import matplotlib.pyplot as plt"
   ]
  },
  {
   "cell_type": "code",
   "execution_count": 79,
   "id": "a87205d1",
   "metadata": {
    "scrolled": true
   },
   "outputs": [
    {
     "data": {
      "image/png": "[encoded data removed]",
      "text/plain": [
       "<Figure size 504x360 with 1 Axes>"
      ]
     },
     "metadata": {
      "needs_background": "light"
     },
     "output_type": "display_data"
    }
   ],
   "source": [
    "x_axis = list(range(1, MAX_ITER + 1))\n",
    "plt.figure(figsize=(7,5))\n",
    "plt.plot(x_axis, cost_c1_ec, 's-', color = 'orange', label=\"c1\")\n",
    "plt.plot(x_axis, cost_c2_ec, 's-', color = 'cornflowerblue', label=\"c2\")\n",
    "plt.title(\"(a) Cost vs. Iteration\", fontsize=15)\n",
    "plt.xticks(x_axis, fontsize=10)\n",
    "plt.yticks(fontsize=10)\n",
    "plt.xlabel(\"round\", fontsize=15)\n",
    "plt.ylabel(\"cost\", fontsize=15)\n",
    "plt.legend(loc = \"best\", fontsize=10)\n",
    "plt.grid(linestyle='dotted')\n",
    "plt.savefig(global_path + \"cost_a.png\")\n",
    "plt.show()\n"
   ]
  },
  {
   "cell_type": "code",
   "execution_count": 80,
   "id": "1fee33aa",
   "metadata": {},
   "outputs": [
    {
     "data": {
      "image/png": "[encoded data removed]",
      "text/plain": [
       "<Figure size 504x360 with 1 Axes>"
      ]
     },
     "metadata": {
      "needs_background": "light"
     },
     "output_type": "display_data"
    }
   ],
   "source": [
    "x_axis = list(range(1, MAX_ITER + 1))\n",
    "plt.figure(figsize=(7,5))\n",
    "plt.plot(x_axis, cost_c1_mh, 's-', color = 'orange', label=\"c1\")\n",
    "plt.plot(x_axis, cost_c2_mh, 's-', color = 'cornflowerblue', label=\"c2\")\n",
    "plt.title(\"(b) Cost vs. Iteration\", fontsize=15)\n",
    "plt.xticks(x_axis, fontsize=10)\n",
    "plt.yticks(fontsize=10)\n",
    "plt.xlabel(\"round\", fontsize=15)\n",
    "plt.ylabel(\"cost\", fontsize=15)\n",
    "plt.legend(loc = \"best\", fontsize=10)\n",
    "plt.grid(linestyle='dotted')\n",
    "plt.savefig(global_path + \"cost_b.png\")\n",
    "plt.show()"
   ]
  },
  {
   "cell_type": "markdown",
   "id": "521ae6c5",
   "metadata": {},
   "source": [
    "## Table"
   ]
  },
  {
   "cell_type": "code",
   "execution_count": 29,
   "id": "02e133b7",
   "metadata": {},
   "outputs": [],
   "source": [
    "import csv\n",
    "import pandas as pd"
   ]
  },
  {
   "cell_type": "markdown",
   "id": "9c19da27",
   "metadata": {},
   "source": [
    "### Cost Table"
   ]
  },
  {
   "cell_type": "code",
   "execution_count": 76,
   "id": "cbcfec88",
   "metadata": {
    "collapsed": true
   },
   "outputs": [
    {
     "data": {
      "text/html": [
       "<div>\n",
       "<style scoped>\n",
       "    .dataframe tbody tr th:only-of-type {\n",
       "        vertical-align: middle;\n",
       "    }\n",
       "\n",
       "    .dataframe tbody tr th {\n",
       "        vertical-align: top;\n",
       "    }\n",
       "\n",
       "    .dataframe thead th {\n",
       "        text-align: right;\n",
       "    }\n",
       "</style>\n",
       "<table border=\"1\" class=\"dataframe\">\n",
       "  <thead>\n",
       "    <tr style=\"text-align: right;\">\n",
       "      <th></th>\n",
       "      <th>C1</th>\n",
       "      <th>C2</th>\n",
       "    </tr>\n",
       "  </thead>\n",
       "  <tbody>\n",
       "    <tr>\n",
       "      <th>Round 1</th>\n",
       "      <td>6.236603e+08</td>\n",
       "      <td>4.387478e+08</td>\n",
       "    </tr>\n",
       "    <tr>\n",
       "      <th>Round 2</th>\n",
       "      <td>5.098629e+08</td>\n",
       "      <td>2.498039e+08</td>\n",
       "    </tr>\n",
       "    <tr>\n",
       "      <th>Round 3</th>\n",
       "      <td>4.854807e+08</td>\n",
       "      <td>1.944948e+08</td>\n",
       "    </tr>\n",
       "    <tr>\n",
       "      <th>Round 4</th>\n",
       "      <td>4.639970e+08</td>\n",
       "      <td>1.698048e+08</td>\n",
       "    </tr>\n",
       "    <tr>\n",
       "      <th>Round 5</th>\n",
       "      <td>4.609693e+08</td>\n",
       "      <td>1.562957e+08</td>\n",
       "    </tr>\n",
       "    <tr>\n",
       "      <th>Round 6</th>\n",
       "      <td>4.605378e+08</td>\n",
       "      <td>1.490942e+08</td>\n",
       "    </tr>\n",
       "    <tr>\n",
       "      <th>Round 7</th>\n",
       "      <td>4.603131e+08</td>\n",
       "      <td>1.425085e+08</td>\n",
       "    </tr>\n",
       "    <tr>\n",
       "      <th>Round 8</th>\n",
       "      <td>4.600035e+08</td>\n",
       "      <td>1.323039e+08</td>\n",
       "    </tr>\n",
       "    <tr>\n",
       "      <th>Round 9</th>\n",
       "      <td>4.595705e+08</td>\n",
       "      <td>1.171710e+08</td>\n",
       "    </tr>\n",
       "    <tr>\n",
       "      <th>Round 10</th>\n",
       "      <td>4.590211e+08</td>\n",
       "      <td>1.085474e+08</td>\n",
       "    </tr>\n",
       "    <tr>\n",
       "      <th>Round 11</th>\n",
       "      <td>4.584907e+08</td>\n",
       "      <td>1.022372e+08</td>\n",
       "    </tr>\n",
       "    <tr>\n",
       "      <th>Round 12</th>\n",
       "      <td>4.579442e+08</td>\n",
       "      <td>9.827802e+07</td>\n",
       "    </tr>\n",
       "    <tr>\n",
       "      <th>Round 13</th>\n",
       "      <td>4.575580e+08</td>\n",
       "      <td>9.563023e+07</td>\n",
       "    </tr>\n",
       "    <tr>\n",
       "      <th>Round 14</th>\n",
       "      <td>4.572901e+08</td>\n",
       "      <td>9.379331e+07</td>\n",
       "    </tr>\n",
       "    <tr>\n",
       "      <th>Round 15</th>\n",
       "      <td>4.570506e+08</td>\n",
       "      <td>9.237713e+07</td>\n",
       "    </tr>\n",
       "    <tr>\n",
       "      <th>Round 16</th>\n",
       "      <td>4.568922e+08</td>\n",
       "      <td>9.154161e+07</td>\n",
       "    </tr>\n",
       "    <tr>\n",
       "      <th>Round 17</th>\n",
       "      <td>4.567036e+08</td>\n",
       "      <td>9.104557e+07</td>\n",
       "    </tr>\n",
       "    <tr>\n",
       "      <th>Round 18</th>\n",
       "      <td>4.564042e+08</td>\n",
       "      <td>9.075224e+07</td>\n",
       "    </tr>\n",
       "    <tr>\n",
       "      <th>Round 19</th>\n",
       "      <td>4.561778e+08</td>\n",
       "      <td>9.047017e+07</td>\n",
       "    </tr>\n",
       "    <tr>\n",
       "      <th>Round 20</th>\n",
       "      <td>4.559869e+08</td>\n",
       "      <td>9.021642e+07</td>\n",
       "    </tr>\n",
       "  </tbody>\n",
       "</table>\n",
       "</div>"
      ],
      "text/plain": [
       "                    C1            C2\n",
       "Round 1   6.236603e+08  4.387478e+08\n",
       "Round 2   5.098629e+08  2.498039e+08\n",
       "Round 3   4.854807e+08  1.944948e+08\n",
       "Round 4   4.639970e+08  1.698048e+08\n",
       "Round 5   4.609693e+08  1.562957e+08\n",
       "Round 6   4.605378e+08  1.490942e+08\n",
       "Round 7   4.603131e+08  1.425085e+08\n",
       "Round 8   4.600035e+08  1.323039e+08\n",
       "Round 9   4.595705e+08  1.171710e+08\n",
       "Round 10  4.590211e+08  1.085474e+08\n",
       "Round 11  4.584907e+08  1.022372e+08\n",
       "Round 12  4.579442e+08  9.827802e+07\n",
       "Round 13  4.575580e+08  9.563023e+07\n",
       "Round 14  4.572901e+08  9.379331e+07\n",
       "Round 15  4.570506e+08  9.237713e+07\n",
       "Round 16  4.568922e+08  9.154161e+07\n",
       "Round 17  4.567036e+08  9.104557e+07\n",
       "Round 18  4.564042e+08  9.075224e+07\n",
       "Round 19  4.561778e+08  9.047017e+07\n",
       "Round 20  4.559869e+08  9.021642e+07"
      ]
     },
     "execution_count": 76,
     "metadata": {},
     "output_type": "execute_result"
    }
   ],
   "source": [
    "df = pd.DataFrame(cost_c1_ec, columns=['C1'])\n",
    "df.index = ['Round ' + str(j) for j in range(1, 21)]\n",
    "df['C2'] = cost_c2_ec\n",
    "df.to_csv(global_path + \"a_cost_table.csv\")\n",
    "df"
   ]
  },
  {
   "cell_type": "code",
   "execution_count": 78,
   "id": "fdc4e20f",
   "metadata": {
    "collapsed": true
   },
   "outputs": [
    {
     "data": {
      "text/html": [
       "<div>\n",
       "<style scoped>\n",
       "    .dataframe tbody tr th:only-of-type {\n",
       "        vertical-align: middle;\n",
       "    }\n",
       "\n",
       "    .dataframe tbody tr th {\n",
       "        vertical-align: top;\n",
       "    }\n",
       "\n",
       "    .dataframe thead th {\n",
       "        text-align: right;\n",
       "    }\n",
       "</style>\n",
       "<table border=\"1\" class=\"dataframe\">\n",
       "  <thead>\n",
       "    <tr style=\"text-align: right;\">\n",
       "      <th></th>\n",
       "      <th>C1</th>\n",
       "      <th>C2</th>\n",
       "    </tr>\n",
       "  </thead>\n",
       "  <tbody>\n",
       "    <tr>\n",
       "      <th>Round 1</th>\n",
       "      <td>550117.142000</td>\n",
       "      <td>1.433739e+06</td>\n",
       "    </tr>\n",
       "    <tr>\n",
       "      <th>Round 2</th>\n",
       "      <td>465617.348524</td>\n",
       "      <td>1.084489e+06</td>\n",
       "    </tr>\n",
       "    <tr>\n",
       "      <th>Round 3</th>\n",
       "      <td>470902.296501</td>\n",
       "      <td>9.734317e+05</td>\n",
       "    </tr>\n",
       "    <tr>\n",
       "      <th>Round 4</th>\n",
       "      <td>483932.393169</td>\n",
       "      <td>8.959346e+05</td>\n",
       "    </tr>\n",
       "    <tr>\n",
       "      <th>Round 5</th>\n",
       "      <td>489207.575817</td>\n",
       "      <td>8.651283e+05</td>\n",
       "    </tr>\n",
       "    <tr>\n",
       "      <th>Round 6</th>\n",
       "      <td>487597.673861</td>\n",
       "      <td>8.458466e+05</td>\n",
       "    </tr>\n",
       "    <tr>\n",
       "      <th>Round 7</th>\n",
       "      <td>483507.394469</td>\n",
       "      <td>8.272196e+05</td>\n",
       "    </tr>\n",
       "    <tr>\n",
       "      <th>Round 8</th>\n",
       "      <td>475258.866664</td>\n",
       "      <td>8.035903e+05</td>\n",
       "    </tr>\n",
       "    <tr>\n",
       "      <th>Round 9</th>\n",
       "      <td>474863.623920</td>\n",
       "      <td>7.560395e+05</td>\n",
       "    </tr>\n",
       "    <tr>\n",
       "      <th>Round 10</th>\n",
       "      <td>457210.606910</td>\n",
       "      <td>7.173329e+05</td>\n",
       "    </tr>\n",
       "    <tr>\n",
       "      <th>Round 11</th>\n",
       "      <td>447522.406734</td>\n",
       "      <td>6.945879e+05</td>\n",
       "    </tr>\n",
       "    <tr>\n",
       "      <th>Round 12</th>\n",
       "      <td>450872.486771</td>\n",
       "      <td>6.844445e+05</td>\n",
       "    </tr>\n",
       "    <tr>\n",
       "      <th>Round 13</th>\n",
       "      <td>451157.792612</td>\n",
       "      <td>6.745747e+05</td>\n",
       "    </tr>\n",
       "    <tr>\n",
       "      <th>Round 14</th>\n",
       "      <td>451922.281166</td>\n",
       "      <td>6.674095e+05</td>\n",
       "    </tr>\n",
       "    <tr>\n",
       "      <th>Round 15</th>\n",
       "      <td>451572.946852</td>\n",
       "      <td>6.635566e+05</td>\n",
       "    </tr>\n",
       "    <tr>\n",
       "      <th>Round 16</th>\n",
       "      <td>452744.142800</td>\n",
       "      <td>6.601628e+05</td>\n",
       "    </tr>\n",
       "    <tr>\n",
       "      <th>Round 17</th>\n",
       "      <td>453082.730287</td>\n",
       "      <td>6.560413e+05</td>\n",
       "    </tr>\n",
       "    <tr>\n",
       "      <th>Round 18</th>\n",
       "      <td>450583.670860</td>\n",
       "      <td>6.530368e+05</td>\n",
       "    </tr>\n",
       "    <tr>\n",
       "      <th>Round 19</th>\n",
       "      <td>450368.749317</td>\n",
       "      <td>6.511124e+05</td>\n",
       "    </tr>\n",
       "    <tr>\n",
       "      <th>Round 20</th>\n",
       "      <td>449011.363726</td>\n",
       "      <td>6.496890e+05</td>\n",
       "    </tr>\n",
       "  </tbody>\n",
       "</table>\n",
       "</div>"
      ],
      "text/plain": [
       "                     C1            C2\n",
       "Round 1   550117.142000  1.433739e+06\n",
       "Round 2   465617.348524  1.084489e+06\n",
       "Round 3   470902.296501  9.734317e+05\n",
       "Round 4   483932.393169  8.959346e+05\n",
       "Round 5   489207.575817  8.651283e+05\n",
       "Round 6   487597.673861  8.458466e+05\n",
       "Round 7   483507.394469  8.272196e+05\n",
       "Round 8   475258.866664  8.035903e+05\n",
       "Round 9   474863.623920  7.560395e+05\n",
       "Round 10  457210.606910  7.173329e+05\n",
       "Round 11  447522.406734  6.945879e+05\n",
       "Round 12  450872.486771  6.844445e+05\n",
       "Round 13  451157.792612  6.745747e+05\n",
       "Round 14  451922.281166  6.674095e+05\n",
       "Round 15  451572.946852  6.635566e+05\n",
       "Round 16  452744.142800  6.601628e+05\n",
       "Round 17  453082.730287  6.560413e+05\n",
       "Round 18  450583.670860  6.530368e+05\n",
       "Round 19  450368.749317  6.511124e+05\n",
       "Round 20  449011.363726  6.496890e+05"
      ]
     },
     "execution_count": 78,
     "metadata": {},
     "output_type": "execute_result"
    }
   ],
   "source": [
    "df = pd.DataFrame(cost_c1_mh, columns=['C1'])\n",
    "df.index = ['Round ' + str(j) for j in range(1, 21)]\n",
    "df['C2'] = cost_c2_mh\n",
    "df.to_csv(global_path + \"b_cost_table.csv\")\n",
    "df"
   ]
  },
  {
   "cell_type": "markdown",
   "id": "bbd7773c",
   "metadata": {},
   "source": [
    "### Centroid Value"
   ]
  },
  {
   "cell_type": "code",
   "execution_count": 68,
   "id": "91c9140a",
   "metadata": {
    "scrolled": true
   },
   "outputs": [],
   "source": [
    "# final_c1_ec: [(cid, [v0, v1, ..., v58]), ...]\n",
    "\n",
    "def result_to_csv(final_centroid, distFunc, output_name):\n",
    "    value_record = [[0] * 10 for k in range(11)]\n",
    "    test_c = final_centroid.sortByKey().collect()\n",
    "    for i in test_c:\n",
    "        for j in test_c:\n",
    "            if i[0] >= j[0]:\n",
    "                continue\n",
    "            distance = 0\n",
    "            for d in range(Dimension):\n",
    "                if distFunc == \"euclidean\":\n",
    "                    distance += (i[1][d] - j[1][d]) ** 2\n",
    "                else:\n",
    "                    distance += abs(i[1][d] - j[1][d])\n",
    "            if distFunc == \"euclidean\":\n",
    "                distance = math.sqrt(distance)\n",
    "            value_record[i[0] + 1][j[0]] = distance\n",
    "    df = pd.DataFrame(value_record, columns = list(range(1, 11)))\n",
    "    df = df.drop(labels=0, axis=0)\n",
    "    df.to_csv(global_path + output_name)\n",
    "    return df"
   ]
  },
  {
   "cell_type": "code",
   "execution_count": 61,
   "id": "13e58763",
   "metadata": {},
   "outputs": [],
   "source": [
    "\"\"\" Problem (a)\"\"\"\n",
    "a_c1_ec_df = result_to_csv(final_c1_ec, \"euclidean\", \"a_c1_ec.csv\")\n",
    "a_c2_ec_df = result_to_csv(final_c2_ec, \"euclidean\", \"a_c2_ec.csv\")\n",
    "a_c1_mh_df = result_to_csv(final_c1_ec, \"manhattan\", \"a_c1_mh.csv\")\n",
    "a_c2_mh_df = result_to_csv(final_c2_ec, \"manhattan\", \"a_c2_mh.csv\")"
   ]
  },
  {
   "cell_type": "code",
   "execution_count": 81,
   "id": "8143872b",
   "metadata": {},
   "outputs": [],
   "source": [
    "\"\"\" Problem (b)\"\"\"\n",
    "b_c1_ec_df = result_to_csv(final_c1_mh, \"euclidean\", \"b_c1_ec.csv\")\n",
    "b_c2_ec_df = result_to_csv(final_c2_mh, \"euclidean\", \"b_c2_ec.csv\")\n",
    "b_c1_mh_df = result_to_csv(final_c1_mh, \"manhattan\", \"b_c1_mh.csv\")\n",
    "b_c2_mh_df = result_to_csv(final_c2_mh, \"manhattan\", \"b_c2_mh.csv\")"
   ]
  },
  {
   "cell_type": "code",
   "execution_count": null,
   "id": "d9746faf",
   "metadata": {},
   "outputs": [],
   "source": []
  }
 ],
 "metadata": {
  "kernelspec": {
   "display_name": "Python 3 (ipykernel)",
   "language": "python",
   "name": "python3"
  },
  "language_info": {
   "codemirror_mode": {
    "name": "ipython",
    "version": 3
   },
   "file_extension": ".py",
   "mimetype": "text/x-python",
   "name": "python",
   "nbconvert_exporter": "python",
   "pygments_lexer": "ipython3",
   "version": "3.7.12"
  }
 },
 "nbformat": 4,
 "nbformat_minor": 5
}
